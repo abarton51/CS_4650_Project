{
 "cells": [
  {
   "cell_type": "markdown",
   "metadata": {},
   "source": [
    "# Mamba vs. Transformer-based RALMs\n",
    "\n",
    "The purpose of this project is to compare the performance of Retrieval Augmented Language Models (RALMs) based on the newly released Mamba architecture to those based on the more prevalent Transformer architecture. We will compare the [Mamba-Chat](https://huggingface.co/havenhq/mamba-chat) model to the [Dolly](https://huggingface.co/databricks/dolly-v2-3b) model. Both these models are approximately 2.8B parameters."
   ]
  },
  {
   "cell_type": "markdown",
   "metadata": {},
   "source": [
    "## Part 0: Imports, Environment Setup, and Dataset Loading"
   ]
  },
  {
   "cell_type": "markdown",
   "metadata": {},
   "source": [
    "First, to facilitate the use of this notebook in colab, load the rest of the repo. ONLY RUN THIS CODE IN COLAB."
   ]
  },
  {
   "cell_type": "code",
   "execution_count": null,
   "metadata": {},
   "outputs": [],
   "source": [
    "!wget -q https://raw.githubusercontent.com/tsunrise/colab-github/main/colab_github.py\n",
    "import colab_github\n",
    "colab_github.github_auth(persistent_key=True)"
   ]
  },
  {
   "cell_type": "code",
   "execution_count": null,
   "metadata": {},
   "outputs": [],
   "source": [
    "#after updating ssh key on github account if necessary, run below\n",
    "!git clone git@github.com:abarton51/CS_4650_Project.git\n",
    "!mv CS_4650_Project/* ."
   ]
  },
  {
   "cell_type": "markdown",
   "metadata": {},
   "source": [
    "Next, install the required dependencies."
   ]
  },
  {
   "cell_type": "code",
   "execution_count": null,
   "metadata": {},
   "outputs": [],
   "source": [
    "!pip install -r requirements.txt"
   ]
  },
  {
   "cell_type": "markdown",
   "metadata": {},
   "source": [
    "For COLAB, if you have not done so before, unzip the tarball file in google drive to get all the evaluation data."
   ]
  },
  {
   "cell_type": "code",
   "execution_count": null,
   "metadata": {},
   "outputs": [],
   "source": [
    "!tar -xvf drive/MyDrive/Mamba_RAG/CS_4650_Project/data/triviaqa-rc.tar.gz -C data/triviaqa"
   ]
  },
  {
   "cell_type": "markdown",
   "metadata": {},
   "source": [
    "Finally, import all necessary packages"
   ]
  },
  {
   "cell_type": "code",
   "execution_count": 6,
   "metadata": {},
   "outputs": [
    {
     "name": "stdout",
     "output_type": "stream",
     "text": [
      "The autoreload extension is already loaded. To reload it, use:\n",
      "  %reload_ext autoreload\n"
     ]
    },
    {
     "name": "stderr",
     "output_type": "stream",
     "text": [
      "c:\\Users\\jasko\\anaconda3\\envs\\4650_proj3\\Lib\\site-packages\\tqdm\\auto.py:21: TqdmWarning: IProgress not found. Please update jupyter and ipywidgets. See https://ipywidgets.readthedocs.io/en/stable/user_install.html\n",
      "  from .autonotebook import tqdm as notebook_tqdm\n"
     ]
    }
   ],
   "source": [
    "%load_ext autoreload\n",
    "%autoreload 2\n",
    "import sys\n",
    "sys.path.append(\"src/\")\n",
    "import json\n",
    "from langchain_community.vectorstores import FAISS\n",
    "from datasets import load_dataset\n",
    "#from mamba_ralm import MambaRALM\n",
    "from langchain.embeddings import HuggingFaceBgeEmbeddings\n",
    "from langchain_community.document_loaders import TextLoader\n",
    "from langchain_text_splitters import CharacterTextSplitter\n",
    "from langchain_community.vectorstores import FAISS\n",
    "from langchain_community.document_loaders import DirectoryLoader\n",
    "import vector_store"
   ]
  },
  {
   "cell_type": "markdown",
   "metadata": {},
   "source": [
    "# Part 1: Construct Vector Database\n",
    "\n",
    "Now let us construct a Vector Database, or load it if already created"
   ]
  },
  {
   "cell_type": "code",
   "execution_count": 11,
   "metadata": {},
   "outputs": [
    {
     "name": "stderr",
     "output_type": "stream",
     "text": [
      "100%|██████████| 1964/1964 [00:08<00:00, 243.80it/s]\n",
      "Created a chunk of size 14985, which is longer than the specified 1000\n"
     ]
    },
    {
     "name": "stdout",
     "output_type": "stream",
     "text": [
      "Documents Loaded\n",
      "Documents Split\n",
      "Beginning Embeddings\n"
     ]
    }
   ],
   "source": [
    "data_directory_path = \"data/triviaqa-rc/evidence\"\n",
    "\n",
    "triviaqa_vector_store = vector_store.RAGVectorStore(data_directory_path)\n",
    "\n",
    "try:\n",
    "\n",
    "    db = triviaqa_vector_store.load_db(\"triviaqa_vector_store\")\n",
    "\n",
    "except RuntimeError:\n",
    "\n",
    "    #db doesnt exist (i hope that some other random error wasnt caught)\n",
    "\n",
    "    db = triviaqa_vector_store.create_db(\"triviaqa_vector_store\", verbose=True)"
   ]
  },
  {
   "cell_type": "code",
   "execution_count": 19,
   "metadata": {},
   "outputs": [
    {
     "name": "stdout",
     "output_type": "stream",
     "text": [
      "['Japanese Islands - definition of Japanese Islands by The Free Dictionary\\nJapanese Islands - definition of Japanese Islands by The Free Dictionary\\nhttp://www.thefreedictionary.com/Japanese+Islands\\nAlso found in: Thesaurus , Wikipedia .\\nThesaurusAntonymsRelated WordsSynonymsLegend:\\nNoun\\n1.\\nJapanese Islands - a string of more than 3,000 islands to the east of Asia extending 1,300 miles between the Sea of Japan and the western Pacific Ocean\\nJapan , Japanese Archipelago\\nEzo , Hokkaido , Yezo - the second largest of the four main islands of Japan; to the north of Honshu\\nHondo , Honshu - the central and largest of the four main islands of Japan; between the Sea of Japan and the Pacific Ocean; regarded as the Japanese mainland\\nKyushu - the southernmost of the four main islands of Japan; contains coal fields\\nShikoku - the smallest of the four main islands of Japan; to the south of Honshu and to the east of Kyushu; separated from Honshu by the Inland Sea; forested and mountainous\\nOsaka Bay - a bay of the western Pacific in southern Honshu', 'The City of Quito, the Capital of Ecuador\\nThe City of Quito, the Capital of Ecuador\\nTwitter\\nQuito (Ecuador), Oct 26, GNA – Quito, the Capital of Ecuador, was founded in the 16th century on the ruins of an Inca city and stands at an altitude of 2,850 m.\\nThe city was hit by earthquake in 1917, but despite that, the city has the best-preserved, least altered historic centre in Latin America.\\nThe monasteries of San Francisco and Santo Domingo, and the Church and Jesuit College of La CompaÃ±Ã\\xada, with their rich interiors, are pure examples of the ‘Baroque school of Quito’, which is a fusion of Spanish, Italian, Moorish, Flemish and indigenous art.\\nThe city has an outstanding universal value isolated in the Andes at 2,818m altitude. It is spread along the slopes of the Pichincha Volcano and is bordered by the hills of Panecillo and Ichimbia.\\nFounded by the Spanish in 1534, on the ruins of an Inca city, Quito proudly possesses one of the most extensive and best-preserved historic centers of Spanish America.\\nThe city offers a remarkable example of the Baroque School of Quito (Escuela Quitena), that brings together the indigenous and European artistic traditions and is renowned for providing the greatest contribution of Spanish America to universal art.\\nThe height of this art is represented by veritable spiritual citadels, among which the principal ones are San Francisco, San Domingo, San Augustin, La Compana, La Merced, the Sanctuary of Guapulco and the Recoleta of San Diego.\\nThese are recognised not only for their artistic value from the architectural viewpoint but also for their decorative elements (altarpieces, paintings, sculptures).\\nThe city of Quito forms a harmonious ensemble where nature and man are brought together to create a unique and transcendental work. The colonizers knew how to adapt their artistic sensibility to the reality that surrounded them, building their architecture in a very complex topographical environment.\\nDespite this, architects were able to confer stylistic and volumetric harmony to the ensemble and urban routes are based on the original plan and include central and secondary squares as well as checkerboard-patterned streets and are aligned on the cardinal points of the compass.\\nIn the city centre, there are convents and churches as well as down and story houses with one or several patios, usually built with earthen bricks and covered with stucco, combining the monumental with the simple and austere.\\nThe city of Quito, the cradle of Pre-Colombian cultures and an important witness of Spanish colonisation maintains, for the time being unity and harmony in its urban structure despite centuries of urban development.\\nQuito was elevated to the title of capital by the audience, it assumed the political direction and patronal control over the villages and towns.\\nThis is the maximum representation of the step towards forming socio-economic development, creator of a true national idiosyncrasy expressed through its unique tangible and intangible heritage.\\nIntegrity\\nThe great majority of attributes upon, which the Outstanding Universal Value of the City of Quito is based are present and intact.\\nThe Historic Centre of Quito has conserved its original configuration and new constructions being built outside of the colonial centre.\\nBased on the first plan of Quito, designed in 1734 by Dionisio Alcedoy Herrera, the original plan of the streets, the blocks of houses and squares – with a few rare exceptions was the same and can be seen today.\\nDespite numerous earthquakes that have affected it over the course of history, the city conserves the least modified historic centre of all Latin America because of the concerted action of the Municipal authorities of the Metropolitan District of Quito and the Ecuadorean government.\\nAuthenticity\\nThe Urban plan in general and its integration into the landscape may be considered as entirely authentic because the original generic form has remained unaltered and the Plaza Mayor (Main Square) has developed organically with very few changes.\\nThe preservation of traditional trades, the contributions of craftsmen holders of ancient know-how and the use of local materials (stone, lime, mud and wood) make it possible to maintain the significant characteristics of the different architectonic components and their decorative elements.\\nProtection and management requirements\\nThe legal domain aspects relating to the protection and safeguarding of cultural heritage are considered in the Constitution of the State, in the Law and Regulations for Cultural Heritage, in the Code of Territorial Organization, Autonomy and Decentralization and in the Law on Culture which is awaiting approval.\\nThe management tools available to the Municipality of the Metropolitan District of Quito are the Territorial Urban Development Plan, the special plan for the Historic Centre of Quito and annual operational plans.\\nThese management tools are planned by the Territorial and Housing Secretariat, while their implementation is the responsibility of the Metropolitan Municipality through the Secretariat of Culture of the Municipality, the Metropolitan Institute of Culture, the Administration Zone Centre, the Municipal Development Enterprise and the Commission for Historic Zones, which is the legislator body for the Historic Centre of Quito.\\nThe measures developed to counterbalance the threats and risks affecting the site are covered by the Territorial Urban Development Plan and the Special Plan for the Historic Centre of Quito.\\nThe boundary of permitted construction zones and the control of illegal constructions on the slopes of Pichincha Volcano aim to lessen the risks for the historic centre and its population.\\nThe revision of the transport system and traffic in the Metropolitan District of Quito has led to the introduction of measures to lessen the negative impacts on the historic centre: restriction of the number of public transport lines; installation of a programme of pedestrian streets and bicycle corridors, creation of parking areas in strategic parts of the historic centre.\\nThe importance of measures such as the control of use and activities within the historic centre, the revitalization of public areas that, in 2003, greatly contributed to the conservation of the site and the improvement of the quality of life of its inhabitants, must also be emphasized.', 'Myanma | Article about Myanma by The Free Dictionary\\nMyanma | Article about Myanma by The Free Dictionary\\nhttp://encyclopedia2.thefreedictionary.com/Myanma\\nAlso found in: Dictionary , Thesaurus .\\nMyanmar\\n(myän`mär, mēän\\'mär`) or\\nBurma\\n(bûr`mə), officially Republic of the Union of Myanmar, republic (2005 est. pop. 42,909,000), 261,789 sq mi (678,033 sq km), SE Asia. It is bounded on the west by Bangladesh, India, and the Bay of Bengal; on the north and northeast by China; on the east by Laos and Thailand; and on the south by the Andaman Sea. The traditional capital and by far the largest city is Yangon Yangon\\n, formerly Rangoon\\n, city (1983 pop. 2,458,712), former capital of Myanmar and capital of Yangon region, S central Myanmar, on the Yangon River (a mouth of the Ayeyarwady) near its entrance into the Gulf of Martaban.\\n..... Click the link for more information. \\xa0(Rangoon), but in late 2005 the government began transferring many government ministries to the new capital, Naypyidaw Naypyidaw\\nor Naypyitaw\\n, capital city of Myanmar and union territory (2009 est. pop. 925,000), 2,724 sq mi (7,054 sq km), in the S central part of the country.\\n..... Click the link for more information. , in central Myanmar.\\nLand and People\\nThe most densely populated part of the country is the valley of the Ayeyarwady (Irrawaddy) River, which, with its vast delta, is one of the main rice-growing regions of the world. Mandalay Mandalay\\n, city (1983 pop. 532,895), capital of Mandalay region, central Myanmar, on the Ayeyarwady River. The second largest city in Myanmar, it is the terminus of the main rail line from Yangon and the starting point of branch lines to Lashio and Myitkyina.\\n..... Click the link for more information. , the country\\'s second largest city, is on the Ayeyarwady in central Myanmar. The Ayeyarwady basin is inhabited by the Burmans proper, a Mongolic people who came down from Tibet by the 9th cent. and now represent nearly 70% of the mainly rural population. The valley is surrounded by a chain of mountains that stem from the E Himalayas and spread out roughly in the shape of a giant horseshoe; the ranges and river valleys of the Chindwinn (a tributary of the Ayeyarwady) and of the Sittaung and the Thanlwin, or Salween (both to the E of the Ayeyarwady), run from north to south.\\nIn the mountains of N Myanmar (rising to more than 19,000 ft/5,790 m) and along the India-Myanmar frontier live various Mongolic peoples; the most important are the Kachins (in the Kachin State in the north) and the Chins (in the Chin State in the west). These peoples practice shifting cultivation (taungya) and cut teak in the forests.\\nBetween the Bay of Bengal and the hills of the Arakan (or Rakhine) Mts. is Rakhine State Rakhine State\\n, formerly Arakan\\n, state (1983 pop. 2,045,891), 14,194 sq mi (36,762 sq km), W Myanmar, extending along the Bay of Bengal. It lies at the foot of the Arakan Mts., which rises to 10,016 ft (3,053 m) at Mt. Victoria. The capital is Sittwe.\\n..... Click the link for more information. , a narrow coastal plain with the port of Sittwe Sittwe\\nor Akyab\\n, city (1983 pop. 107,607), capital of Rakhine State, W Myanmar, at the mouth of the Kaladan River and on the Bay of Bengal. It is an important port and rice-milling center.\\n..... Click the link for more information. , which is home to the Arakanese (or Rakhine). Also in the state are the Muslim Rohingya, who are not recognized as a native minority by the government and are considered Bengali immigrants and noncitizens. In E Myanmar on the Shan Plateau is Shan State Shan State\\n, state (1983 pop. 3,718,706), c.60,000 sq mi (155,400 sq km), E central Myanmar. Taunggyi, the capital, and Lashio are its principal cities. It borders on China in the north, Laos in the east, and Thailand in the south.\\n..... Click the link for more information. , home of the Shans, a Tai people closely related to the Thai who, at nearly 10% of the population, are Myanmar\\'s largest minority. South of Shan State are the mountainous Kayah State and Kayin State; the Karens, who inhabit this region, are of Tai-Chinese origin, and many are Christians. South of Kayin State is the Tanintharyi Tanintharyi\\n, formerly Tenasserim\\n, region (1983 pop. 917,628), 21,297 sq mi (55,159 sq km), extreme S Myanmar. Dawei (Tavoy), the capital, and Myeik (Mergui) are the chief towns.\\n..... Click the link for more information. \\xa0region, a long, narrow strip of coast extending to the Isthmus of Kra. At its northern end is the port of Mawlamyine Mawlamyine\\nor Moulmein,\\n, city (1983 pop. 219,991), SE Myanmar, near the mouth of the Thanlwin (Salween) River; the third largest city of Myanmar and the capital of Mon State.\\n..... Click the link for more information. , Myanmar\\'s third largest city.\\nMost of Myanmar has a tropical monsoon climate; however, N of the Bago Hills around Mandalay is the so-called Dry Zone with a rainfall of 20 to 40 in. (51–102 cm). On the Shan Plateau temperatures are moderate. Theravada Buddhism is the religion of about 90% of the population; there are Christian and Muslim minorities. Burmese (the tongue of the Burmans) is the official language, but each of Myanmar\\'s ethnic minorities has its own language; in all, over 100 languages are spoken.\\nEconomy\\nMyanmar suffered extensive damage in World War II, and some sectors of its economy have not yet fully recovered. About 70% of the population works in agriculture and forestry, and rice accounts for about half of the agricultural output. Other important crops are pulses, sesame, peanuts, and sugarcane. Myanmar also produces illegal opium in the northeast (bordering China, Laos, and Thailand), part of the \"Golden Triangle\"; heroin produced in the country\\'s laboratories contributes to the black-market trade. Myanmar\\'s forests, which are government-owned, are the source of teak and other hardwoods. Fishing is also important.\\nThe country is rich in minerals. Petroleum is found east of the Ayeyarwady in the Dry Zone. Tin and tungsten are mined in E Myanmar; the Mawchi mines in Kayah State are also rich in tungsten. In Shan State, northwest of Lashio, are the Bawdwin mines, the source of lead, silver, and zinc. Coal, copper, natural gas, and iron deposits have also been found in Myanmar. Gems (notably rubies and sapphires) are found near Mogok Mogok\\n, village, N central Myanmar, on the Shan Plateau. It is the centuries-old center of the Myanmarese ruby trade.\\n..... Click the link for more information. . Since the 13th cent., Myanmar has exported jade from the Hunkawng valley in the north to China.\\nAside from food processing, other manufacturing industries include wood and wood products, construction materials, pharmaceuticals, fertilizer, natural gas, and textiles and clothing. Exports include gas, wood products, pulses, fish, rice, clothing, jade, and gemstones. The chief imports are fabric, petroleum products, fertilizer, plastics, machinery, transportation equipment, construction materials, crude oil, food products, and edible oil. The country\\'s chief trade partners are Thailand, China, Singapore, and India. Myanmar\\'s developing economy, depressed by political turmoil, began to recover in the 1980s with increased private activity and foreign investment, but efforts to liberalize the economy stalled in the late 1990s amid new political turmoil and did not resume until the 2010s.\\nGovernment\\nMyanmar is governed under the constitution of 2008. The president, who is both head of state and of government, is elected by the national legislature. The bicameral national legislature, the Assembly of the Union, consists of the House of Nationalities with 224 members, 168 of which are popularly elected and 56 of which are appointed by the military, and the House of Representatives with 440 members, 330 of which are popularly elected and 110 of which are appointed by the military. Members of both houses serve five-year terms. In addition to the seats it controls in the parliament, the military retains control over its own affairs, and the commander in chief can remove the president. Administratively, the country is divided into seven regions, seven states, and a union territory (Naypyidaw).\\nHistory\\nEarly History through World War II\\nMyanmar\\'s early history is mainly the story of the struggle of the Burmans against the Mons, or Talaings (of Mon-Khmer origin). In 1044, King Anawratha established Burman supremacy over the Ayeyarwady delta and over Thaton, capital of the Mon kingdom. Anawratha adopted Theravada Buddhism from the Mons. His capital, Bagan, \"the city of a thousand temples,\" was the seat of his dynasty until it was conquered by Kublai Khan in 1287. Then Shan princes predominated in upper Myanmar, and the Mons revived in the south.\\nIn the 16th cent. the Burman Toungoo dynasty unified the country and initiated the permanent subjugation of the Shans to the Burmans. In the 18th cent. the Mons of the Ayeyarwady delta overran the Dry Zone. In 1758, Alaungapaya rallied the Burmans, crushed the Mons, and established his capital at Yangon. He extended Burman influence to areas in present-day India (Assam and Manipur) and Thailand. Myanmar was ruled by his successors (the Konbaung dynasty) when friction with the British over border areas in India led to war in 1824.\\nThe Treaty of Yandabo (1826) forced Myanmar to cede to British India the Rakhine and Tanintharyi coasts. In a second war (1852) the British occupied the Ayeyarwady delta. Fear of growing French strength in the region, in addition to economic considerations, caused the British to instigate the third Anglo-Burman War (1885) to gain complete control of Myanmar. The Burman king was captured, and the remainder of the country was annexed to India. Under British rule rice cultivation in the delta was expanded, an extensive railroad network was built, and the natural resources of Myanmar were developed. Exploitation of the rich oil deposits of Yenangyaung in central Myanmar was begun in 1871; the export of metals also became important.\\nUntil the 20th cent. Myanmar was allowed no self-government. In 1923 a system of \"dyarchy,\" already in effect in the rest of British India, was introduced, whereby a partially elected legislature was established and some ministers were made responsible to it. In 1935 the British gave Myanmar a new constitution (effective 1937), which separated the country from British India and provided for a fully elected assembly and a responsible cabinet.\\nDuring World War II, Myanmar was invaded and quickly occupied by the Japanese, who set up a nominally independent Burman regime under Dr. Ba Maw. Disillusioned members of the Burmese Independent Army (which the Japanese had formed secretly before the war to assist in expelling the British) under Aung San formed an anti-Japanese resistance movement, the Anti-Fascist People\\'s Freedom League (AFPFL). Allied forces drove the Japanese out of Myanmar in Apr., 1945.\\nIndependence and Civil Strife\\nIn 1947 the British and Aung San reached agreement on full independence for Myanmar. Most of the non-Burman peoples supported the agreement, although the acquiescence of many proved short-lived. Despite the assassination of Aung San in July, 1947, the agreement went into effect on Jan. 4, 1948. Myanmar became an independent republic outside the Commonwealth of Nations. The new constitution provided for a bicameral legislature with a responsible prime minister and cabinet. Non-Burman areas were organized as the Shan, Kachin, Kayin, Kayah, and Chin states; each possessed a degree of autonomy.\\nThe government, controlled by the socialist AFPFL, was soon faced with armed risings of Communist rebels and of Karen tribespeople, who wanted a separate Karen nation. International tension grew over the presence in Myanmar of Chinese Nationalist troops who had been forced across the border by the Chinese Communists in 1950 and who were making forays into China. Myanmar took the matter to the United Nations, which in 1953 ordered the Nationalists to leave Myanmar. In foreign affairs Myanmar followed a generally neutralist course. It refused to join the Southeast Asia Treaty Organization and was one of the first countries to recognize the Communist government in China.\\nIn the elections of 1951–52 the AFPFL triumphed. In 1958 the AFPFL split into two factions; with a breakdown of order threatening, Premier U Nu invited General Ne Win, head of the army, to take over the government (Oct., 1958). After the 1960 elections, which were won by U Nu\\'s faction, civilian government was restored. However, as rebellions among the minorities flared and opposition to U Nu\\'s plan to make Buddhism the state religion mounted, conditions deteriorated rapidly.\\nIn Mar., 1962, Ne Win staged a military coup, discarded the constitution, and established a Revolutionary Council, made up of military leaders who ruled by decree. While the federal structure was retained, a hierarchy of workers\\' and peasants\\' councils was created. A new party, the Myanmar Socialist Program party, was made the only legal political organization. The Revolutionary Council fully nationalized the industrial and commercial sectors of the economy and imposed a policy of international isolation.\\nInsurgency became a major problem of the Ne Win regime. Pro-Chinese Communist rebels—the \"White Flag\" Communists—were active in the northern part of the country, where, from 1967 on, they received aid from Communist China; the Chinese established links with the Shan and Kachin insurgents as well. The deposed U Nu, who managed to leave Myanmar in 1969, also used minority rebels to organize an anti–Ne Win movement among the Shans, Karens, and others in the east. However, in 1972, U Nu split with minority leaders over their assertion of the right to secede from Myanmar.\\nBy the early 1970s the various insurgent groups controlled about one third of Myanmar. Ne Win and other top leaders resigned from the military in 1972 but continued to retain power. A new constitution, providing for a unicameral legislature and one legal political party, took effect in Mar., 1974. At that time the Revolutionary Council was disbanded and Ne Win was installed as president. Economic strife and ethnic tensions throughout the 1970s and 80s led to antigovernment riots in 1988, which caused Ne Win to resign from office. The series of governments that followed failed to restore order, and the military seized control under the name of the State Law and Order Restoration Council (SLORC); some 3,000 were killed when the demonstrations were suppressed. In June, 1989, the military government officially changed the name of the country from Burma to Myanmar.\\nIn elections held in May, 1990, the National League for Democracy (NLD) won a large majority of assembly seats. However, the SLORC declared the election results invalid and arrested many leaders and members of the NLD. Aung San Suu Kyi Aung San Suu Kyi\\n, 1945–, Burmese political leader, B.A. Oxford, 1969, Ph.D. Univ. of London, 1985. The daughter of assassinated (1947) nationalist general U Aung San, who is regarded as the founder of modern Myanmar, she lived outside the country after 1960.\\n..... Click the link for more information. , the leader of the NLD, had been placed under house arrest in 1989; she was awarded the Nobel Peace Prize in 1991. In 1992, General Than Shwe Than Shwe\\n, 1933–, Burmese soldier and military dictator of Myanmar. He joined the army in 1953, attended training school, and became a commissioned officer. In 1963 he was named an instructor in the ideological training school operated by the Burmese Socialist Program\\n..... Click the link for more information. \\xa0became head of the junta and assumed the position of prime minister; many political prisoners were released, most martial law decrees were lifted, and plans to draft a new constitution were announced. However, there was little evidence that the army was prepared to return the government to civilian control. A UN General Assembly committee unanimously condemned the military regime for its refusal to surrender power to a democratically elected parliament.\\nDuring the mid-1990s the military government signed cease-fires with the insurgent ethnic minorities except the Karens; the government launched a major offensive against their stronghold in E Myanmar along the Thai border in 1997. Aung San Suu Kyi was released in 1995 and became active as an opposition leader; the military government denounced her and harassed her followers. In Jan., 1996, Khun Sa, a major opium lord and leader of a private army, surrendered and allowed government troops to enter his jungle headquarters; it was speculated that he might have been granted amnesty and allowed to continue drug activities in return for ending his insurgency.\\nIn 1997 the SLORC changed its name to the State Peace and Development Council (SPDC). Myanmar moved toward closer political and economic relations with neighboring India and Thailand in the 1990s, and in 1999 it was accepted as a member of the Association of Southeast Asian Nations (ASEAN). Human-rights groups continued to report numerous abuses, including the jailing of trade unionists and the increased use of members of ethnic minority groups as forced laborers, and harassment of and crackdowns on the opposition were regular occurrences. In Nov., 2000, the International Labor Organization called for sanctions against Myanmar because of the country\\'s use of forced labor, but significant economic measures were not imposed because they would be barred by the World Trade Organization, to which Myanmar belongs.\\nAung San Suu Kyi was again placed under house arrest from Sept., 2000, to May, 2002. Although many of her supporters had hoped that her 2002 release signaled a new attitude on the part of the SPDC, talks between Aung San Suu Kyi and the government, which had begun during her confinement, did not resume as expected. As she increased her criticism of the SPDC in 2003, her motorcade was attacked in May, her supporters were blamed for the violence, and she and other NLD leaders again placed in detention or under house arrest. The renewed repression led to new international sanctions and criticism of the government; like the earlier sanctions, these did not have a significant effect, in large part because of significant trade with and investments from China, Thailand, India, and Singapore. A number of NLD leaders were freed beginning in November. Meanwhile, in Aug., 2003, Gen. Khin Nyunt, who headed military intelligence, succeeded Than Shwe as prime minister; the latter remained head of the junta.\\nIn May, 2004, the government convened a constitutional convention, but the NLD boycotted the convention because of Aung San Suu Kyi\\'s continuing detention. The convention adjourned in July. Khin Nyunt, who was regarded as one of the more moderate SPDC members, was forced from office in Oct., 2004. Lt. Gen. Soe Win replaced him. Khin Nyunt was subsequently (2005) secretly tried on corruption and bribery charges and given a suspended sentence.\\nThe country did not suffer significant damage as a result of the Dec., 2004, Indian Ocean tsunami. The government reconvened the constitutional convention in Feb., 2005, but adjourned it again at the end of March. The government arrest of Shan leaders on treason charges in Feb., 2005, following a government call for Shan forces to disarm, led the Shan that had signed a 1995 cease-fire with the government to resume their struggle and declare (May, 2005) Shan State independent. In Nov., 2005, the government announced that the capital would be moved to near Pyinmana Pyinmana\\n, town and township (1983 pop. 52,962), Naypyidaw union territory, S central Myanmar, 55 mi (89 km) NNW of Toungoo. Pyinmana is located on the Yangon–Mandalay railroad in a mountainous, forested region.\\n..... Click the link for more information. \\xa0from Yangon and that it had begun relocating ministries there. The move was presented as a transfer of the government to a more central location, but outside observers regarded it as an attempt to relocate to a more isolated and secure site.\\nThe constitutional convention was again reconvened from Dec., 2005, to Jan., 2006, from Oct., 2006, to Dec., 2006, and from July to Sept., 2007, which the government announced that it had completed its work of writing the detailed guidelines for a new constitution. Under the guidelines the military would control important government ministries and sizable blocks of legislative seats. Meanwhile, in Apr., 2006, the government accused the NLD of having ties to terrorist groups, a charge the NLD denied. The International Committee of the Red Cross, which usually raises issues of concern confidentially with national governments, publicly criticized Myanmar\\'s military regime of major human rights abuses in June, 2007.\\nIn May, Lt. Gen. Thein Sein Thein Sein\\n, 1945–, Burmese general and political leader. A graduate of the Defense Services Academy, he commanded an infantry battalion and later served under strongman Than Shwe when he was military commander-in-chief.\\n..... Click the link for more information. \\xa0became acting prime minister; Soe Win, the prime minister, was seriously ill, and died in October. Fuel price rises in Aug., 2007, led to antigovernment demonstrations that came to involve large numbers of Buddhist monks. The protests continued into September, when the government brutally suppressed them and arrested some 3,000 people (the official figure). In Feb., 2008, the government announced that the new constitution was completed and that a national referendum on it would be held in May. The proposed constitution was not published, however, until April.\\nIn May, 2008, Cyclone Nargis devastated areas of Myanmar bordering the Andaman Sea, especially in the Ayeyarwady delta and greater Yangon regions. An estimated 138,000 persons were killed, and rebuilding costs were estimated at $1 billion. The junta initially appeared reluctant to accept international aid and for a time refused international help in distributing the aid. Despite the cyclone, the constitutional referendum went ahead as scheduled (with a two-week delay in devastated areas); the vote, criticized internationally as a sham, overwhelming approved the charter, which entered into force later in the month. In Nov., 2008, Myanmarese oil-and-gas exploration ships in disputed waters in the Bay of Bengal were confronted by the Bangladeshi navy; both nations subsequently withdrew their vessels.\\nThe government broke a 20-year cease-fire with the rebels in Kokang, in NE Shan State, in Aug., 2009; the small rebel force was soon defeated, but some 37,000 refugees fled across the Chinese border. (Fighting continued with Wa rebels, who had joined the conflict; an accord was signed with the Wa in 2013.) China called on Myanmar to maintain stability in the border region, and most refugees soon returned. The government\\'s move was part of its campaign to force the members of the various ethnic rebel armies to join the border guards and to have members of the ethnic groups participate in the elections under the new constitution.\\nIn Mar., 2010, in advance of expected elections under the constitution adopted in 2008, the government announced election laws forbidding civil servants, members of religious orders, and persons imprisoned for crimes from being members of political parties. These and other restrictions appeared intended to abolish the NLD or force it to oust Aung San Suu Kyi and other prominent jailed members. At the same time, the government also officially annulled the 1990 election that the NLD won. In April, Thein Sein and other government leaders resigned from the army prior to run as civilians in upcoming elections; additional senior officers resigned in August.\\nThe NLD refused to reregister under the new election laws, and it and several other parties were dissolved by the government later in 2010. An NLD faction that objected to the election boycott formed the National Democratic Force to run in the November elections. The Union Solidarity and Development party (USDP), the main party aligned with the military, won more than three quarters of the nonappointed seats in parliament in November; opposition parties, including a second party aligned with the military, accused the USDP of fraud, and the elections were widely condemned internationally. Following the election, Aung San Suu Kyi was released.\\nIn Feb., 2011, the new parliament elected Thein Sein president. The military junta was officially dissolved the following month when the new government took office, but it was unclear if Than Shwe remained the country\\'s real leader as head of the State Supreme Council, a shadowy extraconstitutional body. In June, significant fighting erupted in Kachin and Shan states with Kachin rebels (who had maintained a cease-fire since the 1990s); the conflict was centered on the Momauk area in S Kachin State, where China was building a hydroelectric project. In September the government halted work on another Chinese-funded hydroelectric project that had aroused much opposition, Myitsone, in central Kachin. In addition to these and other projects on the tributaries of the Ayeyarwady, proposed dams on the Thanlwin also became a sources of tension with ethnic groups, and the army was used to forcibly residents from construction areas.\\nThe second half of 2011 saw a number of improvements in relations between the government and the opposition, including a meeting between the president and Aung San Suu Kyi and the release of some political prisoners (nearly all political prisoners were released by the end of 2013), and in Jan., 2012, the NLD received approval to run candidates in the upcoming April elections. A cease-fire was signed in early 2012 with Karen rebels, who had been fighting government forces since the country\\'s indepedence in 1948. The agreement was perhaps the most significant of the several cease-fires reached between the government and ethnic rebel groups in 2011–12, but many groups remain at war with the government, and the national cease-fire agreement signed in Oct., 2015, included only seven of the rebel groups who had participated in the negotiations. Aung San Suu Kyi and more than 40 NLD candidates won seats in parliament in the Apr., 2012, voting; the NLD captured nearly all the seats that were up for election. The changes in the political situation in Myanmar led to the easing or removal of sanctions that had been imposed on the country, and revived contacts with Western nations.\\nIn June, 2012, ethnic violence between Buddhist Arakanese and Muslim Rohingyas in Rakhine State in W Myanmar displaced tens of thousands and led the government to declare a state of emergency there. Tensions between the groups continued, however, and in October significant violence again erupted. Many Rohingyas ended up displaced, living in squalid camps. Beginning in Mar., 2013, recurring violence erupted between Buddhists and Muslims, first in Meikhtila, central Myanmar; mainly involving attacks against Muslims, the violence spread to a number of towns and villages elsewhere in the country. In early 2015, fighting erupted with the Kokang rebels in Shan State, leading to a new surge of refugees across the Chinese border. In the Nov., 2015, elections, the NLD won solid majorities in both houses of the Assembly of the Union, giving it the power to elect the next president. Htin Kyaw, a close aide to Suu Kyi, was elected president in Mar., 2016; he became Myanmar\\'s first civilian head of state since U Nu was overthrown in 1962. Suu Kyi, constitutionally barred from the presidency, became foreign minister, and was then named state counselor, a position with prime ministerial powers that was created by parliament.\\nBibliography\\nSee F. N. Trager, Burma: From Kingdom to Republic (1966); M. Htin Aung, A History of Burma (1967); H. Tinker, The Union of Burma (4th ed. 1967); N. Bixler, Burma: A Profile (1971); E. D. Smith, Battle for Burma (1979); D. Steinberg, Burma\\'s Road to Development (1981); M. Smith, Burma: Insurgency and the Politics of Insurgency (1991); T. Myint-U, The Making of Modern Burma (2001), The River of Lost Footsteps (2006), and Where China Meets India: Burma and the New Crossroads of Asia (2011); M. W. Charney, A History of Modern Burma (2009).\\nMyanmar/Burma', 'What does capital of San Marino mean? definition, meaning and pronunciation (Free English Language Dictionary)\\nnational capital (the capital city of a nation)\\nHolonyms (\"capital of San Marino\" is a part of...):\\nRepublic of San Marino ; San Marino (the smallest republic in the world; the oldest independent country in Europe (achieved independence in 301); located in the Apennines and completely surrounded by Italy)\\n\\xa0Learn English with... Proverbs of the week\\xa0\\n\"Forewarned is forearmed.\" (English proverb)\\n\"In age, talk; in childhood, tears.\" (Native American proverb, Hopi)\\n\"Hang a thief when he\\'s young, and he\\'ll no\\' steal when he\\'s old.\" (Scottish proverb)\\n\\xa0Related FAQs:']\n"
     ]
    },
    {
     "data": {
      "text/plain": [
       "'Example Output: Japan[a] is an island country in East Asia. It is in the northwest Pacific Ocean and is bordered on the west by the Sea of Japan, extending from the \\nSea of Okhotsk in the north toward the East China Sea, Philippine Sea, and Taiwan in the south. Japan is a part of the Ring of Fire, and spans an \\narchipelago of 14,125 islands, with the five main islands being Hokkaido, Honshu (the \"mainland\"), Shikoku, Kyushu, and Okinawa. Tokyo is the country\\'s \\ncapital and largest city, followed by Yokohama, Osaka, Nagoya, Sapporo, Fukuoka, Kobe, and Kyoto.\\n'"
      ]
     },
     "execution_count": 19,
     "metadata": {},
     "output_type": "execute_result"
    }
   ],
   "source": [
    "query = \"What is the capital of Japan?\"\n",
    "docs = db.similarity_search(query, k=4)\n",
    "print([docs])\n",
    "\"\"\"Example Output: Japan[a] is an island country in East Asia. It is in the northwest Pacific Ocean and is bordered on the west by the Sea of Japan, extending from the \n",
    "Sea of Okhotsk in the north toward the East China Sea, Philippine Sea, and Taiwan in the south. Japan is a part of the Ring of Fire, and spans an \n",
    "archipelago of 14,125 islands, with the five main islands being Hokkaido, Honshu (the \"mainland\"), Shikoku, Kyushu, and Okinawa. Tokyo is the country's \n",
    "capital and largest city, followed by Yokohama, Osaka, Nagoya, Sapporo, Fukuoka, Kobe, and Kyoto.\n",
    "\"\"\""
   ]
  },
  {
   "cell_type": "markdown",
   "metadata": {},
   "source": [
    "# Part 2: Initialize Model"
   ]
  },
  {
   "cell_type": "markdown",
   "metadata": {},
   "source": [
    "Initialize the model. Select the desired model here."
   ]
  },
  {
   "cell_type": "code",
   "execution_count": null,
   "metadata": {},
   "outputs": [],
   "source": [
    "model = MambaRALM(\"havenhq/mamba-chat\", db)"
   ]
  },
  {
   "cell_type": "markdown",
   "metadata": {},
   "source": [
    "Run inference on the model."
   ]
  },
  {
   "cell_type": "code",
   "execution_count": null,
   "metadata": {},
   "outputs": [],
   "source": [
    "model.provide_no_context = True # for testing\n",
    "model._no_context_string = \"The station went on the air as KXIV in 1989. It functioned as the second independent station for the Salt Lake City area. In 1993, Larry H. Miller, the then-owner of the Utah Jazz of the NBA, purchased the station and renamed it KJZZ-TV; it also became the new TV home of the basketball team for 16 seasons. During Miller's ownership, the station affiliated for five years with UPN, with the station's decision not to renew leading to accusations of racism against management; in the latter years, operations and programming were outsourced in turn to two other Salt Lake stations.\"\n",
    "output = model.predict(\"What team does KJZZ-TV broadcast for?\")\n",
    "print(output)"
   ]
  },
  {
   "cell_type": "markdown",
   "metadata": {},
   "source": [
    "## Part 3: Perform Evaluation"
   ]
  },
  {
   "cell_type": "markdown",
   "metadata": {},
   "source": [
    "Here we load the evaluation dataset, which we will use to evaluate our RAG system."
   ]
  },
  {
   "cell_type": "code",
   "execution_count": null,
   "metadata": {},
   "outputs": [],
   "source": [
    "evaluation_dataset_name = \"wikipedia-dev\"\n",
    "evaluation_ds_filepath = \"data/triviaqa-rc/qa/{ds_name}.json\".format(ds_name=evaluation_dataset_name)\n",
    "\n",
    "with open (evaluation_ds_filepath, \"r\") as json_file:\n",
    "\n",
    "    eval_ds = json.load(json_file)[\"Data\"]\n",
    "\n",
    "model.provide_no_context = False\n",
    "model._no_context_string = \"\" # Doesn't matter since provide_no_context is False\n",
    "\n",
    "MAX_EVALS = 100\n",
    "\n",
    "evals = 0\n",
    "accurate_evals = 0\n",
    "\n",
    "#evaluation loop\n",
    "for i in range(min(len(eval_ds), MAX_EVALS)):\n",
    "\n",
    "    correct_answers = [answer.lower() for answer in eval_ds[i][\"Answer\"][\"Aliases\"]]\n",
    "\n",
    "    model_answer = model.predict(eval_ds[i][\"Question\"]).lower()\n",
    "\n",
    "    if model_answer in correct_answers:\n",
    "\n",
    "        accurate_evals += 1\n",
    "\n",
    "    evals += 1\n",
    "\n",
    "print(\"Evaluation Complete\")\n",
    "print(\"Over {evals} datapoints, the model accurately answered {accurate_evals}, reflecting an over all accuracy of {overall_accuracy}\".format(\n",
    "    evals=evals,\n",
    "    accurate_evals=accurate_evals,\n",
    "    overall_accuracy=(accurate_evals/evals)\n",
    "))\n",
    "    \n",
    "    "
   ]
  }
 ],
 "metadata": {
  "kernelspec": {
   "display_name": "4650_proj",
   "language": "python",
   "name": "python3"
  },
  "language_info": {
   "codemirror_mode": {
    "name": "ipython",
    "version": 3
   },
   "file_extension": ".py",
   "mimetype": "text/x-python",
   "name": "python",
   "nbconvert_exporter": "python",
   "pygments_lexer": "ipython3",
   "version": "3.11.0"
  }
 },
 "nbformat": 4,
 "nbformat_minor": 2
}
